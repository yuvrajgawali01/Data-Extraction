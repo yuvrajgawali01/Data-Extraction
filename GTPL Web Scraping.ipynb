{
 "cells": [
  {
   "cell_type": "code",
   "execution_count": 1,
   "id": "4d3f2cc6",
   "metadata": {},
   "outputs": [],
   "source": [
    "import requests\n",
    "import pandas as pd\n",
    "from bs4 import BeautifulSoup\n",
    "from pandas import json_normalize"
   ]
  },
  {
   "cell_type": "code",
   "execution_count": 2,
   "id": "95397545",
   "metadata": {},
   "outputs": [],
   "source": [
    "#get the url\n",
    "\n",
    "URL = \"https://www.gtpl.net/broadbandplan\""
   ]
  },
  {
   "cell_type": "code",
   "execution_count": 3,
   "id": "9ceec7ff",
   "metadata": {},
   "outputs": [
    {
     "name": "stdout",
     "output_type": "stream",
     "text": [
      "200\n"
     ]
    },
    {
     "name": "stderr",
     "output_type": "stream",
     "text": [
      "C:\\Users\\dell\\anaconda3\\lib\\site-packages\\urllib3\\connectionpool.py:1045: InsecureRequestWarning: Unverified HTTPS request is being made to host 'www.gtpl.net'. Adding certificate verification is strongly advised. See: https://urllib3.readthedocs.io/en/1.26.x/advanced-usage.html#ssl-warnings\n",
      "  warnings.warn(\n"
     ]
    }
   ],
   "source": [
    "response = requests.get(URL,verify=False)\n",
    "\n",
    "print(response.status_code)"
   ]
  },
  {
   "cell_type": "code",
   "execution_count": 4,
   "id": "28d7aa32",
   "metadata": {},
   "outputs": [],
   "source": [
    "# Define base url headers\n",
    "# It can be different for different URLs\n",
    "base_url_headers = {\n",
    "    \"Accept\": \"text/html,application/xhtml+xml,application/xml;q=0.9,image/avif,image/webp,image/apng,*/*;q=0.8,application/signed-exchange;v=b3;q=0.7,\"\n",
    "    \"application/signed-exchange;v=b3;q=0.7\",\n",
    "    \"Accept-Encoding\": \"gzip, deflate, br\",\n",
    "    \"Cache-Control\": \"max-age=0\",\n",
    "    \"Connection\": \"keep-alive\",\n",
    "    \"Host\": \"www.gtpl.net\",\n",
    "    \"sec-ch-ua\": '\"Chromium\";v=\"104\", \" Not A;Brand\";v=\"99\", \"Google Chrome\";v=\"104\"',\n",
    "    \"sec-ch-ua-mobile\": \"?0\",\n",
    "    \"sec-ch-ua-platform\": \"Windows\",\n",
    "    \"Sec-Fetch-Dest\": \"document\",\n",
    "    \"Sec-Fetch-Mode\": \"navigate\",\n",
    "    \"Sec-Fetch-Site\": \"none\",\n",
    "    \"Sec-Fetch-User\": \"?1\",\n",
    "}"
   ]
  },
  {
   "cell_type": "code",
   "execution_count": 5,
   "id": "a721055f",
   "metadata": {},
   "outputs": [
    {
     "name": "stderr",
     "output_type": "stream",
     "text": [
      "C:\\Users\\dell\\anaconda3\\lib\\site-packages\\urllib3\\connectionpool.py:1045: InsecureRequestWarning: Unverified HTTPS request is being made to host 'www.gtpl.net'. Adding certificate verification is strongly advised. See: https://urllib3.readthedocs.io/en/1.26.x/advanced-usage.html#ssl-warnings\n",
      "  warnings.warn(\n"
     ]
    }
   ],
   "source": [
    "# GET request\n",
    "get_url = requests.get(URL, headers=base_url_headers, verify=False)"
   ]
  },
  {
   "cell_type": "code",
   "execution_count": 6,
   "id": "33369958",
   "metadata": {},
   "outputs": [
    {
     "name": "stdout",
     "output_type": "stream",
     "text": [
      "b'<!DOCTYPE html>\\n<html lang=\"en\" ng-app=\"myApp\" > \\n    <head>\\n\\n\\n<!-- Google Tag Manager -->\\n<script>(function(w,d,s,l,i){w[l]=w[l]||[];w[l].push({\\'gtm.start\\':\\nnew Date().getTime(),event:\\'gtm.js\\'});var f=d.getElementsByTagName(s)[0],\\nj=d.createElement(s),dl=l!=\\'dataLayer\\'?\\'&l=\\'+l:\\'\\';j.async=true;j.src=\\n\\'https://www.googletagmanager.com/gtm.js?id=\\'+i+dl;f.parentNode.insertBefore(j,f);\\n})(window,document,\\'script\\',\\'dataLayer\\',\\'GTM-5JCLDVH\\');</script>\\n<!-- End Google Tag Manager -->\\n\\n<!--<title> GTPL Digital Cable TV Connection | GTPL Broadband </title>-->\\n\\n        <meta charset=\"utf-8\" />    \\n        <meta name=\"viewport\" content=\"width=device-width, initial-scale=1.0\">\\n        <meta name=\"keywords\" content=\"\">\\n        <meta name=\"description\" content=\"\">\\n        <meta name=\"author\" content=\"\">\\n\\t\\t<meta name=\"facebook-domain-verification\" content=\"mh2r00y2tm0pqsoeveapdgfdmvrt54\" />\\n\\t<!--<meta name=\"description\" content=\" GTPL Hathway Ltd now brings new offers & more flexibility for you in choosing genre-based digital cable TV packages and broadband plans. Enquire Now for New Connection.\\xe2\\x80\\x9d>-->\\n\\t<meta name=\"description\" content=\"GTPL offers genre-based digital cable TV entertainment packs and high-speed fiber broadband plans. With 10.5+ million connections, GTPL is the preferred Cable TV connection service provider in India.\\xe2\\x80\\x9d/>\\n        <title> GTPL Broadband \\xe2\\x80\\x93 High Speed Unlimited Broadband Plans on Fibre Optic | GTPL</title>\\n\\n        <!--  Set here External CSS -->\\n        <meta name=\"viewport\" content=\"width=device-width, initial-scale=1\">\\n        <link rel=\"stylesheet\" href=\"https://www.gtpl.net/resources/assets/web/css/bootstrap.css\">\\n        <link rel=\"stylesheet\" href=\"https://use.fontawesome.com/releases/v5.6.3/css/all.css\" integrity=\"sha384-UHRtZLI+pbxtHCWp1t77Bi1L4ZtiqrqD80Kn4Z8NTSRyMA2Fd33n5dQ8lWUE00s/\" crossorigin=\"anonymous\">\\n        <link href=\"https://fonts.googleapis.com/css?family=Montserrat:300,400,500,600,700&display=swap\" rel=\"stylesheet\">\\n        <link rel=\"stylesheet\" href=\"https://www.gtpl.net/resources/assets/web/css/style.css\">\\n        <link rel=\"stylesheet\" href=\"https://www.gtpl.net/resources/assets/web/css/style-2.css\">\\n        <link rel=\"stylesheet\" href=\"https://www.gtpl.net/resources/assets/web/css/responsive.css\">\\n        <link rel=\"stylesheet\" href=\"https://www.gtpl.net/resources/assets/web/css/animations.css\">\\n        <link rel=\"stylesheet\" type=\"text/css\" href=\"https://www.gtpl.net/resources/assets/web/css/settings.css\" media=\"screen\" />\\n         <link rel=\"stylesheet\" href=\"https://www.gtpl.net/resources/assets/web/css/developer.css\">\\n                \\n        <script type=\"text/javascript\">window.baseUrl = \"https://www.gtpl.net\";</script>\\n        \\n        <!--  Set here External JS -->\\n\\n\\t<script src=\"https://ajax.googleapis.com/ajax/libs/jquery/1.12.4/jquery.min.js\"></script>\\n   <!-- Global site tag (gtag.js) - Google Analytics -->\\n<script async src=\"https://www.googletagmanager.com/gtag/js?id=UA-143019866-1\"></script>\\n<script>\\n  window.dataLayer = window.dataLayer || [];\\n  function gtag(){dataLayer.push(arguments);}\\n  gtag(\\'js\\', new Date());\\n\\n  gtag(\\'config\\', \\'UA-143019866-1\\');\\n</script>        \\n        \\n\\n<script type=\"application/ld+json\">\\n{\\n  \"@context\": \"https://schema.org\",\\n  \"@type\": \"Corporation\",\\n  \"name\": \"GTPL Hathway Ltd\",\\n  \"alternateName\": \"GTPL\",\\n  \"url\": \"https://www.gtpl.net/\",\\n  \"logo\": \"https://www.gtpl.net/resources/assets/web/images/logo.png\",\\n  \"contactPoint\": {\\n    \"@type\": \"ContactPoint\",\\n    \"telephone\": \"+919727633633\",  \\n    \"contactType\": \"customer service\",\\n    \"contactOption\": [\"TollFree\",\"HearingImpairedSupported\"],\\n    \"areaServed\": \"IN\",\\n    \"availableLanguage\": [\"en\",\"Gujarati\",\"Hindi\",\"Kannada\",\"Marathi\",\"Panjabi\",\"Sindhi\",\"Tamil\",\"Telugu\"]\\n  },\\n  \"sameAs\": [\\n    \"https://www.facebook.com/GTPLHathwayLimited/\",\\n    \"https://twitter.com/GTPLHathwayLtd\",\\n    \"http://www.instagram.com/gtpl_entertain\",\\n    \"https://www.youtube.com/channel/UCASy5lMTW0gGYwIoSZSZ_ZA\",\\n    \"https://www.linkedin.com/company/gtpl-hathway\",\\n    \"https://www.gtpl.net/\"  \\n]\\n}\\n</script>\\n\\n\\n    </head>\\n    <span data-us-spinner=\"{radius:30, width:8, length: 16,scale:0.5}\" class=\"loading-ui-block\"> </span>\\n\\n        <body class=\"innerPage\">\\n<!-- Google Tag Manager (noscript) -->\\n<noscript><iframe src=\"https://www.googletagmanager.com/ns.html?id=GTM-5JCLDVH\"\\nheight=\"0\" width=\"0\" style=\"display:none;visibility:hidden\"></iframe></noscript>\\n<!-- End Google Tag Manager (noscript) -->\\n\\n\\n\\n<header class=\"header\">\\n  <div class=\"container\">\\n    <div class=\"row\">\\n      <div class=\"col-sm-12 col-lg-2 col-md-2\"> <a class=\"logo\" href=\"https://www.gtpl.net\"><img class=\"img-fluid\" src=\"https://www.gtpl.net/resources/assets/web/images/logo.png\"></a> </div>\\n      <div class=\"col-sm-12 col-lg-10 col-md-10\">\\n        <div class=\"topStrip\">\\n          <div class=\"rightPart\">\\n            <ul class=\"toplinksLeft\">\\n              <li class=\"lang\"> <a href=\"#\" data-toggle=\"modal\" data-target=\"#searchModal\">Ahmedabad</a> </li>\\n              <li><a class=\"btnMain topBtn\" target=\"_blank\" href=\"https://selfcare.gtpl.net/Online_Renew_login.aspx\"> QUICK PAY</a></li>\\n              <li><a class=\"btnSecondary topBtn\" href=\"https://www.gtpl.net/new-customers\">New Customer</a></li>\\n              <li><a class=\"btnSecondary topBtn\" target=\"_blank\" href=\"https://selfcare.gtpl.net/\">MY ACCOUNT</a></li>\\n            </ul>\\n            <ul class=\"toplinksRight\">\\n              <div class=\"topCall\">                                    <a href=\"tel:+919727633633\"> +91 9727 633633</a>\\n            \\t&nbsp;&nbsp;<a href=\"https://wa.me/+918200092000?text=Hi\"><i class=\"fab fa-whatsapp fa-lg\" style=\"display: inline-flex;\">&nbsp;&nbsp;<p style=\"font-family:Montserrat\">82000 92000</p></i></a>\\n</div>\\n              <div class=\"topSocial\">\\n                <ul>\\n\\t\\t  <!--<li><a  href=\"https://wa.me/+918200092000?text=Hi\"><i class=\"fab fa-whatsapp fa-lg\"></i></a></li>-->\\n                  <li><a style=\"padding-left: 7px;\" href=\"https://www.facebook.com/GTPLHathwayLimited/\"><i class=\"fab fa-facebook-f fa-lg\"></i></a></li>\\n                  <li><a style=\"padding-left: 7px;\" href=\"https://twitter.com/GTPLHathwayLtd\"><i class=\"fab fa-twitter fa-lg\"></i></a></li>                  \\n\\t\\t  <li><a style=\"padding-left: 7px;\" href=\"http://www.instagram.com/gtpl_entertain/\"><i class=\"fab fa-instagram fa-lg\"></i></a></li>                  \\n                </ul>\\n              </div>\\n            </ul>\\n          </div>\\n        </div>\\n        <nav class=\"navbar navbar-expand-md\">\\n          <button class=\"navbar-toggler\" type=\"button\" data-toggle=\"collapse\" data-target=\"#navbar-collapse\"> </button>\\n          <div class=\"collapse navbar-collapse\" id=\"navbar-collapse\">\\n            <ul class=\"nav navbar-nav\">\\n                            <!--<li id=\"\" class=\"nav-item\"> <a class=\"nav-link\" href=\"https://www.gtpl.net\"><img src=\"https://www.gtpl.net/resources/assets/web/images/home-icon.png\"></a> </li>-->\\n                                                                                                    \\n                                                                                    \\n                                                                                                                                                                                   \\n                                                                                    \\n                       \\n                                                                                  <li class=\"nav-item dropdown\"> \\n                                                                                                                                                                                                                                    <a  class=\"nav-item dropdown-toggle \" data-toggle=\"dropdown\" href=\"#\" role=\"button\" aria-haspopup=\"true\" aria-expanded=\"false\">GTPL@GLANCE </a>\\n                                                                            \\n                          \\n                                                <div class=\"dropdown-menu \"> \\n                                                                                                <a class=\"dropdown-item \" href=\"https://www.gtpl.net/about-us\">About Us</a> \\n                                                                                                    <a class=\"dropdown-item \" href=\"https://www.gtpl.net/milestone\">Milestones</a> \\n                                                                                                    <a class=\"dropdown-item \" href=\"https://www.gtpl.net/board-of-direction\">Board of Directors</a> \\n                                                        </div>\\n                                            </li>\\n                                                                                                                    \\n                                                                                    \\n                       \\n                                                                                  <li class=\"nav-item dropdown\"> \\n                                                                                                                                                                                                                                    <a  class=\"nav-item dropdown-toggle \" data-toggle=\"dropdown\" href=\"#\" role=\"button\" aria-haspopup=\"true\" aria-expanded=\"false\">CABLE TV </a>\\n                                                                            \\n                          \\n                                                <div class=\"dropdown-menu \"> \\n                                                                                                <a class=\"dropdown-item \" href=\"https://www.gtpl.net/gtpl-network-channels\">GTPL Network Channels</a> \\n                                                                                                    <a class=\"dropdown-item \" href=\"https://www.gtpl.net/standard-definition\">Standard Definition</a> \\n                                                                                                    <a class=\"dropdown-item \" href=\"https://www.gtpl.net/high-definition\">High Definition</a> \\n                                                        </div>\\n                                            </li>\\n                                                                                                                    \\n                                                                                    \\n                       \\n                                                                                  <li class=\"nav-item dropdown\"> \\n                                                                                                                                                                                                                                    <a  class=\"nav-item dropdown-toggle \" data-toggle=\"dropdown\" href=\"#\" role=\"button\" aria-haspopup=\"true\" aria-expanded=\"false\">BROADBAND </a>\\n                                                                            \\n                          \\n                                                <div class=\"dropdown-menu \"> \\n                                                                                                <a class=\"dropdown-item \" href=\"https://www.gtpl.net/broadbandplan\">View Plan</a>\\n                                                                                                <a class=\"dropdown-item \" href=\"https://selfcare.gtpl.net/eCAF.aspx\">Buy Online</a>\\n                                                                                                <a class=\"dropdown-item \" href=\"https://www.gtpl.net/parental-control\">Parental Control</a> \\n                                                        </div>\\n                                            </li>\\n                                                                                                                    \\n                                                                                    \\n                       \\n                                                                                  <li class=\"nav-item dropdown\"> \\n                                                                                                                                                                                                                                                            <a  class=\"nav-item dropdown-toggle \"  href=\"https://www.gtpl.net/investor-relations\" role=\"button\" aria-haspopup=\"true\" aria-expanded=\"false\">INVESTOR RELATIONS </a>\\n                                                    \\n                          \\n                                                <div class=\"dropdown-menu megaMenu\"> \\n                                                                                                <a class=\"dropdown-item \" href=\"https://www.gtpl.net/investorrelations/compliance\">Compliance</a>\\n                                                                                                <a class=\"dropdown-item \" href=\"https://www.gtpl.net/investorrelations/financial-result\">Financial Results</a>\\n                                                                                                <a class=\"dropdown-item \" href=\"https://www.gtpl.net/investorrelations/annual-report\">Annual Report</a>\\n                                                                                                <a class=\"dropdown-item \" href=\"https://www.gtpl.net/investorrelations/announcements\">Announcements</a>\\n                                                                                                <a class=\"dropdown-item \" href=\"https://www.gtpl.net/investorrelations/policies\">Policies</a>\\n                                                                                                <a class=\"dropdown-item \" href=\"https://www.gtpl.net/investorrelations/board-meetings\">Board Meetings</a>\\n                                                                                                <a class=\"dropdown-item \" href=\"https://www.gtpl.net/investorrelations/general-meeting\">General Meeting</a>\\n                                                                                                <a class=\"dropdown-item \" href=\"https://www.gtpl.net/disclosures-regulation-46\">Reg. 46 Discl.</a> \\n                                                        </div>\\n                                            </li>\\n                                                                                                                    \\n                                                                                    \\n                                                                                                       <li class=\"nav-item \"> \\n                                                                                                                                                                                                                                                             <a  class=\"nav-item \"  href=\"https://www.gtpl.net/beyond-business\" >BEYOND BUSINESS </a>\\n                                                    \\n                                            </li>\\n                                                                                                                    \\n                                                                                    \\n                       \\n                                                                                  <li class=\"nav-item dropdown\"> \\n                                                                                                                                                                                                                                    <a  class=\"nav-item dropdown-toggle \" data-toggle=\"dropdown\" href=\"#\" role=\"button\" aria-haspopup=\"true\" aria-expanded=\"false\">CAREERS </a>\\n                                                                            \\n                          \\n                                                <div class=\"dropdown-menu \"> \\n                                                                                                <a class=\"dropdown-item \" href=\"https://www.gtpl.net/people\">People</a> \\n                                                        </div>\\n                                            </li>\\n                                                                                                                    \\n                                                                                    \\n                                                                                                       <li class=\"nav-item \"> \\n                                                                                                                                                                                                                                     <a  class=\"nav-item \"  href=\"https://www.gtpl.net/consumer/corner\">CONSUMER CORNER </a>\\n                                                                            \\n                                            </li>\\n                                    \\n            </ul>\\n          </div>\\n        </nav>\\n      </div>\\n    </div>\\n  </div>\\n</header>\\n\\n\\n<script async src=\"https://www.googletagmanager.com/gtag/js?id=AW-536547726\"></script>\\n<script>\\n  window.dataLayer = window.dataLayer || [];\\n  function gtag(){dataLayer.push(arguments);}\\n  gtag(\\'js\\', new Date());\\n\\n  gtag(\\'config\\', \\'AW-536547726\\');\\n</script>\\n\\n<script async src=\"https://www.googletagmanager.com/gtag/js?id=UA-142048448-1\"></script>\\n\\n<script>\\n  window.dataLayer = window.dataLayer || [];\\n  function gtag(){dataLayer.push(arguments);}\\n  gtag(\\'js\\', new Date());\\n  gtag(\\'config\\', \\'UA-142048448-1\\');\\n</script>\\n\\n<!-- Facebook Pixel Code -->\\n<script>\\n!function(f,b,e,v,n,t,s)\\n{if(f.fbq)return;n=f.fbq=function(){n.callMethod?\\nn.callMethod.apply(n,arguments):n.queue.push(arguments)};\\nif(!f._fbq)f._fbq=n;n.push=n;n.loaded=!0;n.version=\\'2.0\\';\\nn.queue=[];t=b.createElement(e);t.async=!0;\\nt.src=v;s=b.getElementsByTagName(e)[0];\\ns.parentNode.insertBefore(t,s)}(window, document,\\'script\\',\\n\\'https://connect.facebook.net/en_US/fbevents.js\\');\\nfbq(\\'init\\', \\'228598599359995\\');\\nfbq(\\'track\\', \\'PageView\\');\\n</script>\\n<noscript><img height=\"1\" width=\"1\" style=\"display:none\"\\nsrc=https://www.facebook.com/tr?id=228598599359995&ev=PageView&noscript=1\\n/></noscript>\\n<!-- End Facebook Pixel Code -->\\n\\n<!-- Global site tag (gtag.js) - Google Ads: 349153966 -->\\n<script async src=https://www.googletagmanager.com/gtag/js?id=AW-349153966></script>\\n<script>\\n  window.dataLayer = window.dataLayer || [];\\n  function gtag(){dataLayer.push(arguments);}\\n  gtag(\\'js\\', new Date());\\n\\n  gtag(\\'config\\', \\'AW-349153966\\');\\n</script>\\n\\n\\n\\n<title>GTPL Broadband \\xe2\\x80\\x93 High Speed Unlimited Broadband Plans on Fibre Optic</title>\\n\\n<div class=\"innerBanner\">\\n    <!-- InstanceBeginEditable name=\"EditRegion3\" -->\\n    \\n                    <div class=\"banners brodband\" style=\"background: url(https://www.gtpl.net/uploads/header_banner_img/header_banner_709_5.jpg) no-repeat;\">\\n        \\n    </div>\\n    <!-- InstanceEndEditable --> \\n</div>\\n<div class=\"innerContent\">\\n    <!-- InstanceBeginEditable name=\"EditRegion4\" -->\\n    <div class=\"container\">\\n        <div class=\"row\">\\n            <div class=\"col-sm-12\">\\n                <div class=\"plansWrap\">\\n                    <h3 class=\"innerTitle text-center mt30\">Super Saver High Speed Unlimited Plans</h3>\\n                    <div class=\"plansState mt50\">\\n                        <div class=\"stateTitle\">\\n                            <ul>\\n                                <li>Max Speed <span>Upto Mbps</span></li>\\n                                <li>Validity\\t <span>Months</span></li>\\n                                <li>MRP  <span> \\xe2\\x82\\xb9</span></li>\\n                                <li>MRP <span>Excluding GST \\xe2\\x82\\xb9</span></li>\\n                                <li>Effective <span>Monthly Cost \\xe2\\x82\\xb9</span></li>\\n                                <li></li>\\n                            </ul>\\n                        </div>\\n                                                                                            <div class=\"stateRow mt50\" id=\"30\">\\n                                    <div class=\"maxSpeed\">\\n                                        <div class=\"text\"><span>60</span><br>\\n                                            Mbps Speed</div>\\n                                    </div>\\n                                    <div class=\"validity\">\\n                                                                                                                        <p>6</p>\\n                                                                                    <p>9</p>\\n                                                                                    <p>12</p>\\n                                            \\n                                        \\n                                    </div>\\n                                    <div class=\"mrp\">\\n                                                                                                                        <p>\\xe2\\x82\\xb94,000.00</p>\\n                                                                                    <p>\\xe2\\x82\\xb94,998.00</p>\\n                                                                                    <p>\\xe2\\x82\\xb96,095.00</p>\\n                                            \\n                                     \\n                                    </div>\\n                                    <div class=\"mrpGst\">\\n                                                                                                                        <p>\\xe2\\x82\\xb93,390.00</p>\\n                                                                                    <p>\\xe2\\x82\\xb94,236.00</p>\\n                                                                                    <p>\\xe2\\x82\\xb95,165.00</p>\\n                                            \\n                                     \\n                                    </div>\\n                                    <div class=\"effective\">\\n                                                                                                                         <p>\\xe2\\x82\\xb9565.00</p>\\n                                                                                    <p>\\xe2\\x82\\xb9471.00</p>\\n                                                                                    <p>\\xe2\\x82\\xb9430.00</p>\\n                                            \\n                                     \\n                                    </div>\\n                                    <div class=\"selectBtn\">\\n                                                                                                                         <!--<p><a href=\"https://www.gtpl.net/inquiry/broadband/aERIR24xZTBhbE1TQ1o4ckYxUlFuQT09\">Select</a></p> -->\\n\\t\\t\\t\\t\\t\\t\\t\\t\\t\\t\\t<p><a href=\"https://selfcare.gtpl.net/leadcreate.aspx\">Inquire</a></p>\\n                                                                                     <!--<p><a href=\"https://www.gtpl.net/inquiry/broadband/MG9pSGlYOERnMnRaNGRnOTE2U25LUT09\">Select</a></p> -->\\n\\t\\t\\t\\t\\t\\t\\t\\t\\t\\t\\t<p><a href=\"https://selfcare.gtpl.net/leadcreate.aspx\">Inquire</a></p>\\n                                                                                     <!--<p><a href=\"https://www.gtpl.net/inquiry/broadband/bk9hZDNoVytDNVJKVWx0TmcvL3lKQT09\">Select</a></p> -->\\n\\t\\t\\t\\t\\t\\t\\t\\t\\t\\t\\t<p><a href=\"https://selfcare.gtpl.net/leadcreate.aspx\">Inquire</a></p>\\n                                            \\n                                     \\n                                    </div>\\n                                </div>\\n                                                            <div class=\"stateRow mt50\" id=\"91\">\\n                                    <div class=\"maxSpeed\">\\n                                        <div class=\"text\"><span>80</span><br>\\n                                            Mbps Speed</div>\\n                                    </div>\\n                                    <div class=\"validity\">\\n                                                                                                                        <p>6</p>\\n                                                                                    <p>9</p>\\n                                                                                    <p>12</p>\\n                                            \\n                                        \\n                                    </div>\\n                                    <div class=\"mrp\">\\n                                                                                                                        <p>\\xe2\\x82\\xb94,099.00</p>\\n                                                                                    <p>\\xe2\\x82\\xb95,498.00</p>\\n                                                                                    <p>\\xe2\\x82\\xb96,363.00</p>\\n                                            \\n                                     \\n                                    </div>\\n                                    <div class=\"mrpGst\">\\n                                                                                                                        <p>\\xe2\\x82\\xb93,474.00</p>\\n                                                                                    <p>\\xe2\\x82\\xb94,659.00</p>\\n                                                                                    <p>\\xe2\\x82\\xb95,392.00</p>\\n                                            \\n                                     \\n                                    </div>\\n                                    <div class=\"effective\">\\n                                                                                                                         <p>\\xe2\\x82\\xb9579.00</p>\\n                                                                                    <p>\\xe2\\x82\\xb9518.00</p>\\n                                                                                    <p>\\xe2\\x82\\xb9449.00</p>\\n                                            \\n                                     \\n                                    </div>\\n                                    <div class=\"selectBtn\">\\n                                                                                                                         <!--<p><a href=\"https://www.gtpl.net/inquiry/broadband/VU9EYkEydVJnZUp5TGpGWGgvQm81QT09\">Select</a></p> -->\\n\\t\\t\\t\\t\\t\\t\\t\\t\\t\\t\\t<p><a href=\"https://selfcare.gtpl.net/leadcreate.aspx\">Inquire</a></p>\\n                                                                                     <!--<p><a href=\"https://www.gtpl.net/inquiry/broadband/L0lFRStDY25aSHhNOXRTcGdNMUFpQT09\">Select</a></p> -->\\n\\t\\t\\t\\t\\t\\t\\t\\t\\t\\t\\t<p><a href=\"https://selfcare.gtpl.net/leadcreate.aspx\">Inquire</a></p>\\n                                                                                     <!--<p><a href=\"https://www.gtpl.net/inquiry/broadband/K2ZOWnNKL25kQlBPNGRNUllXS2Rydz09\">Select</a></p> -->\\n\\t\\t\\t\\t\\t\\t\\t\\t\\t\\t\\t<p><a href=\"https://selfcare.gtpl.net/leadcreate.aspx\">Inquire</a></p>\\n                                            \\n                                     \\n                                    </div>\\n                                </div>\\n                                                            <div class=\"stateRow mt50\" id=\"36\">\\n                                    <div class=\"maxSpeed\">\\n                                        <div class=\"text\"><span>100</span><br>\\n                                            Mbps Speed</div>\\n                                    </div>\\n                                    <div class=\"validity\">\\n                                                                                                                        <p>6</p>\\n                                                                                    <p>9</p>\\n                                                                                    <p>12</p>\\n                                            \\n                                        \\n                                    </div>\\n                                    <div class=\"mrp\">\\n                                                                                                                        <p>\\xe2\\x82\\xb94,199.00</p>\\n                                                                                    <p>\\xe2\\x82\\xb95,998.00</p>\\n                                                                                    <p>\\xe2\\x82\\xb96,999.00</p>\\n                                            \\n                                     \\n                                    </div>\\n                                    <div class=\"mrpGst\">\\n                                                                                                                        <p>\\xe2\\x82\\xb93,558.00</p>\\n                                                                                    <p>\\xe2\\x82\\xb95,083.00</p>\\n                                                                                    <p>\\xe2\\x82\\xb95,931.00</p>\\n                                            \\n                                     \\n                                    </div>\\n                                    <div class=\"effective\">\\n                                                                                                                         <p>\\xe2\\x82\\xb9593.00</p>\\n                                                                                    <p>\\xe2\\x82\\xb9565.00</p>\\n                                                                                    <p>\\xe2\\x82\\xb9494.00</p>\\n                                            \\n                                     \\n                                    </div>\\n                                    <div class=\"selectBtn\">\\n                                                                                                                         <!--<p><a href=\"https://www.gtpl.net/inquiry/broadband/alJnZm5GaTZXU0ZJY254MHdwbGt5UT09\">Select</a></p> -->\\n\\t\\t\\t\\t\\t\\t\\t\\t\\t\\t\\t<p><a href=\"https://selfcare.gtpl.net/leadcreate.aspx\">Inquire</a></p>\\n                                                                                     <!--<p><a href=\"https://www.gtpl.net/inquiry/broadband/TUp4TnlYVEJORDBSbEdHMmRCMVlXdz09\">Select</a></p> -->\\n\\t\\t\\t\\t\\t\\t\\t\\t\\t\\t\\t<p><a href=\"https://selfcare.gtpl.net/leadcreate.aspx\">Inquire</a></p>\\n                                                                                     <!--<p><a href=\"https://www.gtpl.net/inquiry/broadband/a3RsTUtHcWNDamkra1FBekFsRmVOQT09\">Select</a></p> -->\\n\\t\\t\\t\\t\\t\\t\\t\\t\\t\\t\\t<p><a href=\"https://selfcare.gtpl.net/leadcreate.aspx\">Inquire</a></p>\\n                                            \\n                                     \\n                                    </div>\\n                                </div>\\n                                                            <div class=\"stateRow mt50\" id=\"108\">\\n                                    <div class=\"maxSpeed\">\\n                                        <div class=\"text\"><span>150</span><br>\\n                                            Mbps Speed</div>\\n                                    </div>\\n                                    <div class=\"validity\">\\n                                                                                                                        <p>6</p>\\n                                                                                    <p>12</p>\\n                                            \\n                                        \\n                                    </div>\\n                                    <div class=\"mrp\">\\n                                                                                                                        <p>\\xe2\\x82\\xb94,949.00</p>\\n                                                                                    <p>\\xe2\\x82\\xb98,484.00</p>\\n                                            \\n                                     \\n                                    </div>\\n                                    <div class=\"mrpGst\">\\n                                                                                                                        <p>\\xe2\\x82\\xb94,194.00</p>\\n                                                                                    <p>\\xe2\\x82\\xb97,190.00</p>\\n                                            \\n                                     \\n                                    </div>\\n                                    <div class=\"effective\">\\n                                                                                                                         <p>\\xe2\\x82\\xb9699.00</p>\\n                                                                                    <p>\\xe2\\x82\\xb9599.00</p>\\n                                            \\n                                     \\n                                    </div>\\n                                    <div class=\"selectBtn\">\\n                                                                                                                         <!--<p><a href=\"https://www.gtpl.net/inquiry/broadband/TmNFNlRqUEl0YzkvZEg1YlBiYVkwdz09\">Select</a></p> -->\\n\\t\\t\\t\\t\\t\\t\\t\\t\\t\\t\\t<p><a href=\"https://selfcare.gtpl.net/leadcreate.aspx\">Inquire</a></p>\\n                                                                                     <!--<p><a href=\"https://www.gtpl.net/inquiry/broadband/QllYd2dzNVRSR010MlBsbnZsMEh2QT09\">Select</a></p> -->\\n\\t\\t\\t\\t\\t\\t\\t\\t\\t\\t\\t<p><a href=\"https://selfcare.gtpl.net/leadcreate.aspx\">Inquire</a></p>\\n                                            \\n                                     \\n                                    </div>\\n                                </div>\\n                                                            <div class=\"stateRow mt50\" id=\"109\">\\n                                    <div class=\"maxSpeed\">\\n                                        <div class=\"text\"><span>200</span><br>\\n                                            Mbps Speed</div>\\n                                    </div>\\n                                    <div class=\"validity\">\\n                                                                                                                        <p>6</p>\\n                                                                                    <p>12</p>\\n                                            \\n                                        \\n                                    </div>\\n                                    <div class=\"mrp\">\\n                                                                                                                        <p>\\xe2\\x82\\xb95,299.00</p>\\n                                                                                    <p>\\xe2\\x82\\xb99,190.00</p>\\n                                            \\n                                     \\n                                    </div>\\n                                    <div class=\"mrpGst\">\\n                                                                                                                        <p>\\xe2\\x82\\xb94,491.00</p>\\n                                                                                    <p>\\xe2\\x82\\xb97,788.00</p>\\n                                            \\n                                     \\n                                    </div>\\n                                    <div class=\"effective\">\\n                                                                                                                         <p>\\xe2\\x82\\xb9749.00</p>\\n                                                                                    <p>\\xe2\\x82\\xb9649.00</p>\\n                                            \\n                                     \\n                                    </div>\\n                                    <div class=\"selectBtn\">\\n                                                                                                                         <!--<p><a href=\"https://www.gtpl.net/inquiry/broadband/MTVMcldCSHNtWis0NGlKMThESUsrZz09\">Select</a></p> -->\\n\\t\\t\\t\\t\\t\\t\\t\\t\\t\\t\\t<p><a href=\"https://selfcare.gtpl.net/leadcreate.aspx\">Inquire</a></p>\\n                                                                                     <!--<p><a href=\"https://www.gtpl.net/inquiry/broadband/alRMb2d1SGVzSEVFSk9tcnBRSE1DQT09\">Select</a></p> -->\\n\\t\\t\\t\\t\\t\\t\\t\\t\\t\\t\\t<p><a href=\"https://selfcare.gtpl.net/leadcreate.aspx\">Inquire</a></p>\\n                                            \\n                                     \\n                                    </div>\\n                                </div>\\n                                                                            \\n                    </div>\\n                </div>\\n            </div>\\n        </div>\\n    </div>   \\n\\n    \\n    <!-- InstanceEndEditable -->\\n</div>\\n\\n\\n\\n<footer class=\"footer\">\\n<!-- InstanceBeginEditable name=\"EditRegion5\" -->\\n<div class=\"container\">\\n    <div class=\"row\">\\n        <div class=\"col-sm-12\">\\n                        <div class=\"supportbbWrap\">\\n                    <div class=\"support supportBb\">\\n                        <div class=\"sCol first\">\\n                            <h3><span>Sales &amp; <br>\\n                                    Support</span></h3>\\n                        </div>\\n                        <div class=\"sCol second\">\\n                            <ul>\\n\\t\\t\\t\\t\\t\\t\\t <li><a href=\"https://wa.me/+918200092000?text=Hi\">82000 92000</a></li>\\n                               <li>1800-419-0419</li>\\n                                <li><a href=\"tel:+919727633633\">+91-9727 633633</a></li>\\n                                 <li><a href=\"mailto:yoursupport@gtpl.net\">yoursupport@gtpl.net</a></li>                \\n                               \\n                            </ul>\\n                        </div>\\n                        <div class=\"sCol third\">\\n                            <a href=\"https://www.gtpl.net/new-customers\">\\n                                <h4 class=\"ani\">Get <br>\\n                                    Connection</h4>\\n                            </a>\\n                        </div> \\n                        <div class=\"sCol four\">\\n                            <a href=\"https://www.gtpl.net/customer-support\">\\n                                <h4 class=\"ani\">Customer <br>\\n                                    Support</h4></a>\\n                        </div>\\n                        <div class=\"sCol five bdrNone\">\\n                            <a href=\"#\">\\n                                <h4 class=\"ani\">Track <br>\\n                                    Service Ticket</h4>\\n                            </a>\\n                        </div>\\n                    </div>\\n               <div class=\"referBtn d-block\"><a href=\"https://www.gtpl.net/refer-and-earn\">Refer <span> &amp </span> Earn <br> <small>For Broadband</small></a></div>\\n                    <div class=\"referBot\">\\n                        <div class=\"row\">\\n                            <div class=\"col-sm-12 col-md-4\">\\n                                <div class=\"img\">\\n                                    <img src=\"https://www.gtpl.net/resources/assets/web/images/refer-img.png\">\\n                                </div>\\n                            </div>\\n                            <div class=\"col-sm-12 col-md-5\">\\n                                <div class=\"text\">\\n                                    <p> <span>REFER & EARN</span>\\n\\n                                        Share The Advantage<br />\\n                                        </p>\\n                                </div>\\n                            </div>\\n                            <div class=\"col-sm-12 col-md-3\">\\n                                <a class=\"btnMain\" href=\"https://www.gtpl.net/refer-and-earn\">REFER NOW</a>\\n                            </div>\\n                        </div>\\n                    </div>\\n                </div>\\n                    </div>\\n    </div>\\n</div>\\n<!-- InstanceEndEditable -->\\n\\n\\n  <div class=\"fo1\">\\n    <div class=\"container\">\\n      <div class=\"row\">\\n        <div class=\"col-lg-4 col-sm-12 col-md-6 col-12\">\\n                          <title></title>\\r\\n<div class=\"ftInfo\">\\r\\n<p>CORPORATE OFFICE:<br />\\r\\nGTPL House ,Sindhu Bhavan Road,<br />\\r\\nBodakdev, Ahmedabad \\xe2\\x80\\x93 380059</p>\\r\\n\\r\\n<p>REGISTERED OFFICE:<br />\\r\\n202, 2nd Floor,Sahajanand Shopping Center,<br />\\r\\nopp. Swaminarayan Temple, Shahibaugh,<br />\\r\\nAhmedabad - 380004</p>\\r\\n</div>\\n                    </div>\\n                           \\n                        <div class=\"col-lg-3 col-sm-4 col-md-6 col-12 col-sm-6\">\\n                          <div class=\"ftBox\">\\n                <h3 class=\"ftTitle\">Digital Cable TV</h3>\\n                <ul class=\"ftList\">\\n              \\n                              \\n                  <li><a href=\"https://www.gtpl.net/nodal-officer-subscribers\">Nodal Officer - Subscribers</a></li>\\n                                  \\n                  <li><a href=\"https://www.gtpl.net/nodal-officer-lco\">Nodal Officer - LCO</a></li>\\n                                                  <li><a href=\"https://www.gtpl.net/uploads/editor/files/5e0320d49101c.pdf\">Manual of Practice</a></li>\\n                                  \\n                  <li><a href=\"https://www.gtpl.net/compliances\">Compliances</a></li>\\n                                                  <li><a href=\"https://nearme.gtpl.net/\">Locate Us</a></li>\\n                                           </ul>\\n              </div>\\n            </div>\\n                   \\n                        <div class=\"col-lg-3 col-sm-4 col-md-6 col-12 col-sm-6\">\\n                          <div class=\"ftBox\">\\n                <h3 class=\"ftTitle\">Broadband</h3>\\n                <ul class=\"ftList\">\\n              \\n                              \\n                  <li><a href=\"https://www.gtpl.net/appellate-authority\">Appellate Authority</a></li>\\n                                                  <li><a href=\"https://www.gtpl.net/uploads/editor/files/5e2fcaff8e0c3.pdf\">Telecom Consumer Charter</a></li>\\n                                  \\n                  <li><a href=\"https://www.gtpl.net/basic-trouble-shooting\">Basic Trouble Shooting</a></li>\\n                                                  <li><a href=\"http://nearme.fiber.gtpl.net/\">Locate Us</a></li>\\n                                           </ul>\\n              </div>\\n            </div>\\n                   \\n                        <div class=\"col-lg-2 col-sm-4 col-md-6 col-12 col-sm-6\">\\n                          <div class=\"ftBox\">\\n                <h3 class=\"ftTitle\">Other Information</h3>\\n                <ul class=\"ftList\">\\n              \\n                              \\n                  <li><a href=\"https://www.gtpl.net/privacy-policy\">Privacy Policy</a></li>\\n                                  \\n                  <li><a href=\"https://www.gtpl.net/terms-conditions\">Terms &amp; Conditions</a></li>\\n                                           </ul>\\n              </div>\\n            </div>\\n                \\n      </div>\\n    </div>\\n  </div>\\n  <div class=\"fo2\">\\n    <div class=\"container\">\\n      <div class=\"row\">\\n        <div class=\"col-sm-6 col-md-3 col-lg-3\">\\n          <p class=\"ftLogo\"><!--<img src=\"https://www.gtpl.net/resources/assets/web/images/ft-logo.png\">--></p>\\n        </div>\\n        <div class=\"col-sm-6 col-md-9 col-lg-6\">\\n          <p class=\"center\">&copy;2023 \\n                 GTPL Hathway Ltd.\\n                 All Rights <a href = \"https://www.gtpl.net/digital-cable-tv\">Reserved</a>.</p>\\n        </div>\\n        <div class=\"col-sm-12 col-md-12 col-lg-3\">\\n          <ul class=\"ftSocial\">\\n\\t    <li><a  href=\"https://wa.me/+918200092000?text=Hi\"><i class=\"fab fa-whatsapp fa-2x\"></i></a></li> \\n            <li><a style=\"padding-left: 10px;\" href=\"https://www.facebook.com/GTPLHathwayLimited/\"><i class=\"fab fa-facebook-f fa-2x\"></i></a></li>\\n            <li><a style=\"padding-left: 10px;\" href=\"https://twitter.com/GTPLHathwayLtd\"><i class=\"fab fa-twitter fa-2x\"></i></a></li>   \\n\\t    <li><a style=\"padding-left: 10px;\" href=\"http://www.instagram.com/gtpl_entertain\"><i class=\"fab fa-instagram fa-2x\"></i></a></li>             \\n</ul>\\n        </div>\\n      </div>\\n    </div>\\n  </div>\\n</footer>\\n\\n\\n<div class=\"modal fade\" id=\"searchModal\">\\n  <div class=\"modal-dialog searchBox\">\\n    <div class=\"modal-content\"> \\n      <!-- Modal body -->\\n      <div class=\"modal-body\">\\n        <div class=\"input-group\">\\n            <input type=\"text\" class=\"search-query\" placeholder=\"Search for your city\" name=\"search-query\" id=\"search-query\">\\n            <span class=\"input-group-btn\">\\n            <button type=\"button\" disabled=\"\"> <img src=\"https://www.gtpl.net/resources/assets/web/images/search-icon.png\"> </button>\\n            </span> </div>\\n            <div class=\"cityWrap\">\\n                <ul class=\"cityul\">\\n                                                                    <li><a href=\"#\" city_id=\"4\" class=\"city\" city_name=\"AHMEDABAD\">AHMEDABAD</a></li>\\n                                                <li><a href=\"#\" city_id=\"8\" class=\"city\" city_name=\"BARODA\">BARODA</a></li>\\n                                                <li><a href=\"#\" city_id=\"6\" class=\"city\" city_name=\"SURAT\">SURAT</a></li>\\n                                                <li><a href=\"#\" city_id=\"5\" class=\"city\" city_name=\"RAJKOT\">RAJKOT</a></li>\\n                                                <li><a href=\"#\" city_id=\"1\" class=\"city\" city_name=\"NAGPUR\">NAGPUR</a></li>\\n                                                <li><a href=\"#\" city_id=\"2\" class=\"city\" city_name=\"PUNE\">PUNE</a></li>\\n                                                <li><a href=\"#\" city_id=\"10\" class=\"city\" city_name=\"PATNA\">PATNA</a></li>\\n                                                <li><a href=\"#\" city_id=\"16\" class=\"city\" city_name=\"JODHPUR\">JODHPUR</a></li>\\n                                                <li><a href=\"#\" city_id=\"18\" class=\"city\" city_name=\"JAIPUR\">JAIPUR</a></li>\\n                                                <li><a href=\"#\" city_id=\"74\" class=\"city\" city_name=\"VARANASI\">VARANASI</a></li>\\n                                                <li><a href=\"#\" city_id=\"75\" class=\"city\" city_name=\"HYDERABAD\">HYDERABAD</a></li>\\n                                                <li><a href=\"#\" city_id=\"4\" class=\"city\" city_name=\"AHMEDABAD\">OTHER CITY</a></li>\\n                                        \\n                </ul>\\n                <p class=\"nocity mt20\"> <b>No City Available..</b></p>\\n            </div>\\n      </div>\\n      <button type=\"button\" class=\"btn\" data-dismiss=\"modal\"><i class=\"fas fa-times\"></i></button>\\n    </div>\\n  </div>\\n</div>\\n<script src=\"https://cdnjs.cloudflare.com/ajax/libs/jquery/3.2.1/jquery.min.js\"></script> \\n<script src=\"https://www.gtpl.net/resources/assets/web/js/bootstrap.min.js\"></script> \\n<script src=\"https://cdnjs.cloudflare.com/ajax/libs/slick-carousel/1.6.0/slick.js\"></script> \\n<script src=\"https://www.gtpl.net/resources/assets/web/js/jquery.validate.min.js\"></script> \\n<script src=\"https://www.gtpl.net/resources/assets/web/js/script.js\"></script> \\n<script type=\"text/javascript\">\\n$(document).ready(function(){\\n    \\n    $(\\'.nocity\\').hide();\\n    \\n    $.ajax({\\n        url: \"https://geolocation-db.com/jsonp\",\\n        jsonpCallback: \"callback\",\\n        dataType: \"jsonp\",\\n        success: function(location) {\\n            var city = location.city;\\n            $(\\'#city\\').html(city);\\n        }\\n    });\\n    \\n$(\".navbar-toggler\").click(function(){\\n\\t$(this).toggleClass(\"open\");\\n});\\n\\nif (window.matchMedia(\\'(max-width: 768px)\\').matches)\\n{\\n$(\".footer .ftBox .ftTitle\").click(function(){\\n\\t$(this).next(\\'.footer .ftBox .ftList\\').slideToggle(\\'slow\\');\\n});\\n}\\n\\n$(\\'#blogCarousel\\').carousel({\\n\\t\\t\\t\\tinterval: 5000\\n\\t\\t});\\n$(\".faqWrap .accordion .card .card-header .btn-link\").click(function(){\\n$(this).toggleClass(\"open\");\\n});\\n\\t\\t\\n});\\n\\n$(window).scroll(function() {\\n  var scroll = $(window).scrollTop();\\n\\t$(\".availableWrap .zoom\").css({\\n\\t\\ttransform: \\'translate3d(-2%, -\\'+(scroll/100)+\\'%, 0) scale(\\'+(50 + scroll/5)/800+\\')\\', \\n\\t});\\n});\\n</script> \\n<script>\\n$(document).ready(function(){\\n    $(\\'.products\\').slick({\\n        slidesToShow: 3,\\n        slidesToScroll: 1,\\n        autoplay: false,\\n        autoplaySpeed: 5000,\\n        arrows: false,\\n        dots: false,\\n        pauseOnHover: false,\\n        responsive: [{\\n            breakpoint: 1200,\\n            settings: {\\n                slidesToShow: 2\\n            }\\n        }\\n\\t\\t, {\\n            breakpoint: 767,\\n            settings: {\\n                slidesToShow: 1\\n            }\\n        }]\\n    });\\n});\\n</script> \\n<script>\\n$(document).ready(function(){\\n    $(\\'.package\\').slick({\\n        slidesToShow: 4,\\n        slidesToScroll: 1,\\n        autoplay: true,\\n        autoplaySpeed: 5000,\\n        arrows: false,\\n        dots: false,\\n        pauseOnHover: false,\\n        responsive: [{\\n            breakpoint: 1200,\\n            settings: {\\n                slidesToShow: 3\\n            }\\n        }\\n\\t\\t, {\\n            breakpoint: 574,\\n            settings: {\\n                slidesToShow: 1\\n            }\\n        }]\\n    });\\n});\\n</script> \\n<script>\\n/*Interactivity to determine when an animated element in in view. In view elements trigger our animation*/\\n$(document).ready(function() {\\n\\n  //window and animation items\\n  var animation_elements = $.find(\\'.animation-element\\');\\n  var web_window = $(window);\\n\\n  //check to see if any animation containers are currently in view\\n  function check_if_in_view() {\\n    //get current window information\\n    var window_height = web_window.height();\\n    var window_top_position = web_window.scrollTop();\\n    var window_bottom_position = (window_top_position + window_height);\\n\\n    //iterate through elements to see if its in view\\n    $.each(animation_elements, function() {\\n\\n      //get the element sinformation\\n      var element = $(this);\\n      var element_height = $(element).outerHeight();\\n      var element_top_position = $(element).offset().top;\\n      var element_bottom_position = (element_top_position + element_height);\\n\\n      //check to see if this current container is visible (its viewable if it exists between the viewable space of the viewport)\\n      if ((element_bottom_position >= window_top_position) && (element_top_position <= window_bottom_position)) {\\n        element.addClass(\\'in-view\\');\\n      } else {\\n        element.removeClass(\\'in-view\\');\\n      }\\n    });\\n\\n  }\\n\\n  //on or scroll, detect elements in view\\n  $(window).on(\\'scroll resize\\', function() {\\n      check_if_in_view()\\n    })\\n    //trigger our scroll event on initial load\\n  $(window).trigger(\\'scroll\\');\\n  \\n  /* Search City */\\n    $(document).on(\"keyup\", \\'.search-query\\', function (e) {\\n        var city_name = $(this).val();\\n        var code = (e.keyCode || e.which);\\n        if (code != 37 && code != 38 && code != 39 && code != 40) {\\n            //if (city_name.length >= 2) {\\n                $(\\'.cityWrap ul li\\').remove();\\n                var url = baseUrl + \\'/get/city/name\\';\\n                $.ajax({\\n                    type: \"POST\",\\n                    url: url,\\n                    data: {\\'city_name\\': city_name, \\'_token\\': \\'LonDyzhx7RkPxJUlJFDkAQQyl7wB0MllkPD0IJPI\\'},\\n                    success: function (response) {\\n                        if(response.length != 0){\\n                            var country_strng = \\'\\';\\n                            var s = 0;\\n                            jQuery.each(response, function (i, item) {\\n                                country_strng += \\'<li><a href=\"#\" class=\"city\" city_id=\"\\'+response[i].id+\\'\" city_name=\"\\'+response[i].name+\\'\">\\'+ response[i].name + \\'</a></li>\\';\\n                                s++;\\n                            });\\n                            /*if (s > 0)\\n                            {\\n\\n                                jQuery(\\'#search-query\\').selectpicker(\\'refresh\\');\\n                            }*/\\n                            $(\\'.cityul\\').html(country_strng);\\n                            $(\\'#search-query\\').trigger(\"change\"); \\n                            $(\\'.nocity\\').hide();\\n                        }else\\n                            $(\\'.nocity\\').show();\\n\\n                        }\\n                });\\n            //}\\n        }\\n    });\\n    \\n    $(document).on(\"click\", \\'.city\\', function (e) {\\n   \\n        var city_name = $(this).attr(\"city_name\");\\n        var city_id = $(this).attr(\"city_id\");\\n        var url = baseUrl + \\'/storesearchcity\\';\\n                $.ajax({\\n                    type: \"POST\",\\n                    url: url,\\n                    data: {\\'city_name\\': city_name,\"city_id\":city_id, \\'_token\\': \\'LonDyzhx7RkPxJUlJFDkAQQyl7wB0MllkPD0IJPI\\'},\\n                    success: function (response) {\\n                        if(response == \"true\"){\\n                            window.location = baseUrl;\\n                        }\\n                    }\\n                });\\n     \\n    });\\n});\\n\\n</script> \\n</script><script src=\\'https://cdnjs.cloudflare.com/ajax/libs/vue/2.1.7/vue.js\\'>\\n</script><script src=\\'https://cdn.jsdelivr.net/npm/vue-carousel-3d@0.2.0/dist/vue-carousel-3d.min.js\\'></script> \\n\\n</body>\\n</html>\\n'\n"
     ]
    }
   ],
   "source": [
    "# Get the webpage conent\n",
    "print(get_url.content)"
   ]
  },
  {
   "cell_type": "code",
   "execution_count": 7,
   "id": "b0feb39c",
   "metadata": {},
   "outputs": [
    {
     "data": {
      "text/plain": [
       "bytes"
      ]
     },
     "execution_count": 7,
     "metadata": {},
     "output_type": "execute_result"
    }
   ],
   "source": [
    "type(get_url.content)"
   ]
  },
  {
   "cell_type": "code",
   "execution_count": 20,
   "id": "044afde7",
   "metadata": {},
   "outputs": [],
   "source": [
    "html_data = BeautifulSoup(get_url.content, 'html.parser')"
   ]
  },
  {
   "cell_type": "code",
   "execution_count": 9,
   "id": "d22d3ad5",
   "metadata": {},
   "outputs": [
    {
     "name": "stdout",
     "output_type": "stream",
     "text": [
      "Extracted Data from Multiple Elements: []\n"
     ]
    }
   ],
   "source": [
    "# Replace 'parent_id' with the actual ID of the parent element you are interested in\n",
    "parent_element = html_data.find(id=\"30\")\n",
    "\n",
    "# Check if the parent element exists\n",
    "if parent_element:\n",
    "    # Extract specific data within the parent element\n",
    "    # You can use find() or find_all() to locate nested elements and extract their data\n",
    "\n",
    "    # Example 1: Extracting text from a specific element within the parent element\n",
    "    specific_element = parent_element.find(\"div\", class_=\"specific_class\")\n",
    "    if specific_element:\n",
    "        data = specific_element.text.strip()\n",
    "        print(\"Extracted Data:\", data)\n",
    "\n",
    "    # Example 2: Extracting data from multiple elements within the parent element\n",
    "    multiple_elements = parent_element.find_all(\"div\", class_=\"multiple_class\")\n",
    "    extracted_data = []\n",
    "    for element in multiple_elements:\n",
    "        data = element.text.strip()\n",
    "        extracted_data.append(data)\n",
    "    print(\"Extracted Data from Multiple Elements:\", extracted_data)\n",
    "\n",
    "    # You can continue to extract other data as needed within the parent element\n",
    "\n",
    "else:\n",
    "    print(\"Parent element not found.\")\n",
    "\n",
    "# Make sure to replace 'parent_id', 'specific_class', and 'multiple_class'\n",
    "# with the actual IDs and classes used in your HTML structure."
   ]
  },
  {
   "cell_type": "code",
   "execution_count": 10,
   "id": "a02d348c",
   "metadata": {},
   "outputs": [
    {
     "data": {
      "text/plain": [
       "<div class=\"stateRow mt50\" id=\"30\">\n",
       "<div class=\"maxSpeed\">\n",
       "<div class=\"text\"><span>60</span><br/>\n",
       "                                            Mbps Speed</div>\n",
       "</div>\n",
       "<div class=\"validity\">\n",
       "<p>6</p>\n",
       "<p>9</p>\n",
       "<p>12</p>\n",
       "</div>\n",
       "<div class=\"mrp\">\n",
       "<p>₹4,000.00</p>\n",
       "<p>₹4,998.00</p>\n",
       "<p>₹6,095.00</p>\n",
       "</div>\n",
       "<div class=\"mrpGst\">\n",
       "<p>₹3,390.00</p>\n",
       "<p>₹4,236.00</p>\n",
       "<p>₹5,165.00</p>\n",
       "</div>\n",
       "<div class=\"effective\">\n",
       "<p>₹565.00</p>\n",
       "<p>₹471.00</p>\n",
       "<p>₹430.00</p>\n",
       "</div>\n",
       "<div class=\"selectBtn\">\n",
       "<!--<p><a href=\"https://www.gtpl.net/inquiry/broadband/aERIR24xZTBhbE1TQ1o4ckYxUlFuQT09\">Select</a></p> -->\n",
       "<p><a href=\"https://selfcare.gtpl.net/leadcreate.aspx\">Inquire</a></p>\n",
       "<!--<p><a href=\"https://www.gtpl.net/inquiry/broadband/MG9pSGlYOERnMnRaNGRnOTE2U25LUT09\">Select</a></p> -->\n",
       "<p><a href=\"https://selfcare.gtpl.net/leadcreate.aspx\">Inquire</a></p>\n",
       "<!--<p><a href=\"https://www.gtpl.net/inquiry/broadband/bk9hZDNoVytDNVJKVWx0TmcvL3lKQT09\">Select</a></p> -->\n",
       "<p><a href=\"https://selfcare.gtpl.net/leadcreate.aspx\">Inquire</a></p>\n",
       "</div>\n",
       "</div>"
      ]
     },
     "execution_count": 10,
     "metadata": {},
     "output_type": "execute_result"
    }
   ],
   "source": [
    "parent_element"
   ]
  },
  {
   "cell_type": "code",
   "execution_count": 46,
   "id": "9b2173cc",
   "metadata": {},
   "outputs": [
    {
     "name": "stdout",
     "output_type": "stream",
     "text": [
      "  Speed (Mbps) Validity (months)                            MRP (₹)  \\\n",
      "0           60        [6, 9, 12]  [₹4,000.00, ₹4,998.00, ₹6,095.00]   \n",
      "1           80        [6, 9, 12]  [₹4,099.00, ₹5,498.00, ₹6,363.00]   \n",
      "2          100        [6, 9, 12]  [₹4,199.00, ₹5,998.00, ₹6,999.00]   \n",
      "3          150           [6, 12]             [₹4,949.00, ₹8,484.00]   \n",
      "4          200           [6, 12]             [₹5,299.00, ₹9,190.00]   \n",
      "\n",
      "                    MRP with GST (₹)          Effective Price (₹)  \n",
      "0  [₹3,390.00, ₹4,236.00, ₹5,165.00]  [₹565.00, ₹471.00, ₹430.00]  \n",
      "1  [₹3,474.00, ₹4,659.00, ₹5,392.00]  [₹579.00, ₹518.00, ₹449.00]  \n",
      "2  [₹3,558.00, ₹5,083.00, ₹5,931.00]  [₹593.00, ₹565.00, ₹494.00]  \n",
      "3             [₹4,194.00, ₹7,190.00]           [₹699.00, ₹599.00]  \n",
      "4             [₹4,491.00, ₹7,788.00]           [₹749.00, ₹649.00]  \n"
     ]
    }
   ],
   "source": [
    "# Initialize lists to store extracted data\n",
    "speeds = []\n",
    "validities = []\n",
    "mrp = []\n",
    "mrp_gst = []\n",
    "effective = []\n",
    "\n",
    "# Find all the parent elements with class \"stateRow\"\n",
    "state_rows = html_data.find_all(class_=\"stateRow\")\n",
    "\n",
    "# Loop through each state row and extract data\n",
    "for state_row in state_rows:\n",
    "    # Extract speed from the \"maxSpeed\" div\n",
    "    speed_div = state_row.find(class_=\"maxSpeed\")\n",
    "    speed = speed_div.find(\"span\").text.strip()\n",
    "    speeds.append(speed)\n",
    "\n",
    "    # Extract validity periods from the \"validity\" div\n",
    "    validity_div = state_row.find(class_=\"validity\")\n",
    "    validity_periods = [p.text.strip() for p in validity_div.find_all(\"p\")]\n",
    "    validities.append(validity_periods)\n",
    "\n",
    "    # Extract MRP (₹) from the \"mrp\" div\n",
    "    mrp_div = state_row.find(class_=\"mrp\")\n",
    "    mrp_prices = [p.text.strip() for p in mrp_div.find_all(\"p\")]\n",
    "    mrp.append(mrp_prices)\n",
    "\n",
    "    # Extract MRP with GST (₹) from the \"mrpGst\" div\n",
    "    mrp_gst_div = state_row.find(class_=\"mrpGst\")\n",
    "    mrp_gst_prices = [p.text.strip() for p in mrp_gst_div.find_all(\"p\")]\n",
    "    mrp_gst.append(mrp_gst_prices)\n",
    "\n",
    "    # Extract effective price (₹) from the \"effective\" div\n",
    "    effective_div = state_row.find(class_=\"effective\")\n",
    "    effective_prices = [p.text.strip() for p in effective_div.find_all(\"p\")]\n",
    "    effective.append(effective_prices)\n",
    "\n",
    "# Create a DataFrame from the extracted data\n",
    "data = {\n",
    "    \"Speed (Mbps)\": speeds,\n",
    "    \"Validity (months)\": validities,\n",
    "    \"MRP (₹)\": mrp,\n",
    "    \"MRP with GST (₹)\": mrp_gst,\n",
    "    \"Effective Price (₹)\": effective,\n",
    "}\n",
    "\n",
    "df = pd.DataFrame(data)\n",
    "\n",
    "# Print the DataFrame\n",
    "print(df)"
   ]
  },
  {
   "cell_type": "code",
   "execution_count": 47,
   "id": "ba6e1120",
   "metadata": {},
   "outputs": [],
   "source": [
    "data = pd.DataFrame(df)"
   ]
  },
  {
   "cell_type": "code",
   "execution_count": 48,
   "id": "c7241618",
   "metadata": {},
   "outputs": [
    {
     "data": {
      "text/html": [
       "<div>\n",
       "<style scoped>\n",
       "    .dataframe tbody tr th:only-of-type {\n",
       "        vertical-align: middle;\n",
       "    }\n",
       "\n",
       "    .dataframe tbody tr th {\n",
       "        vertical-align: top;\n",
       "    }\n",
       "\n",
       "    .dataframe thead th {\n",
       "        text-align: right;\n",
       "    }\n",
       "</style>\n",
       "<table border=\"1\" class=\"dataframe\">\n",
       "  <thead>\n",
       "    <tr style=\"text-align: right;\">\n",
       "      <th></th>\n",
       "      <th>Speed (Mbps)</th>\n",
       "      <th>Validity (months)</th>\n",
       "      <th>MRP (₹)</th>\n",
       "      <th>MRP with GST (₹)</th>\n",
       "      <th>Effective Price (₹)</th>\n",
       "    </tr>\n",
       "  </thead>\n",
       "  <tbody>\n",
       "    <tr>\n",
       "      <th>0</th>\n",
       "      <td>60</td>\n",
       "      <td>[6, 9, 12]</td>\n",
       "      <td>[₹4,000.00, ₹4,998.00, ₹6,095.00]</td>\n",
       "      <td>[₹3,390.00, ₹4,236.00, ₹5,165.00]</td>\n",
       "      <td>[₹565.00, ₹471.00, ₹430.00]</td>\n",
       "    </tr>\n",
       "    <tr>\n",
       "      <th>1</th>\n",
       "      <td>80</td>\n",
       "      <td>[6, 9, 12]</td>\n",
       "      <td>[₹4,099.00, ₹5,498.00, ₹6,363.00]</td>\n",
       "      <td>[₹3,474.00, ₹4,659.00, ₹5,392.00]</td>\n",
       "      <td>[₹579.00, ₹518.00, ₹449.00]</td>\n",
       "    </tr>\n",
       "    <tr>\n",
       "      <th>2</th>\n",
       "      <td>100</td>\n",
       "      <td>[6, 9, 12]</td>\n",
       "      <td>[₹4,199.00, ₹5,998.00, ₹6,999.00]</td>\n",
       "      <td>[₹3,558.00, ₹5,083.00, ₹5,931.00]</td>\n",
       "      <td>[₹593.00, ₹565.00, ₹494.00]</td>\n",
       "    </tr>\n",
       "    <tr>\n",
       "      <th>3</th>\n",
       "      <td>150</td>\n",
       "      <td>[6, 12]</td>\n",
       "      <td>[₹4,949.00, ₹8,484.00]</td>\n",
       "      <td>[₹4,194.00, ₹7,190.00]</td>\n",
       "      <td>[₹699.00, ₹599.00]</td>\n",
       "    </tr>\n",
       "    <tr>\n",
       "      <th>4</th>\n",
       "      <td>200</td>\n",
       "      <td>[6, 12]</td>\n",
       "      <td>[₹5,299.00, ₹9,190.00]</td>\n",
       "      <td>[₹4,491.00, ₹7,788.00]</td>\n",
       "      <td>[₹749.00, ₹649.00]</td>\n",
       "    </tr>\n",
       "  </tbody>\n",
       "</table>\n",
       "</div>"
      ],
      "text/plain": [
       "  Speed (Mbps) Validity (months)                            MRP (₹)  \\\n",
       "0           60        [6, 9, 12]  [₹4,000.00, ₹4,998.00, ₹6,095.00]   \n",
       "1           80        [6, 9, 12]  [₹4,099.00, ₹5,498.00, ₹6,363.00]   \n",
       "2          100        [6, 9, 12]  [₹4,199.00, ₹5,998.00, ₹6,999.00]   \n",
       "3          150           [6, 12]             [₹4,949.00, ₹8,484.00]   \n",
       "4          200           [6, 12]             [₹5,299.00, ₹9,190.00]   \n",
       "\n",
       "                    MRP with GST (₹)          Effective Price (₹)  \n",
       "0  [₹3,390.00, ₹4,236.00, ₹5,165.00]  [₹565.00, ₹471.00, ₹430.00]  \n",
       "1  [₹3,474.00, ₹4,659.00, ₹5,392.00]  [₹579.00, ₹518.00, ₹449.00]  \n",
       "2  [₹3,558.00, ₹5,083.00, ₹5,931.00]  [₹593.00, ₹565.00, ₹494.00]  \n",
       "3             [₹4,194.00, ₹7,190.00]           [₹699.00, ₹599.00]  \n",
       "4             [₹4,491.00, ₹7,788.00]           [₹749.00, ₹649.00]  "
      ]
     },
     "execution_count": 48,
     "metadata": {},
     "output_type": "execute_result"
    }
   ],
   "source": [
    "data"
   ]
  }
 ],
 "metadata": {
  "kernelspec": {
   "display_name": "Python 3 (ipykernel)",
   "language": "python",
   "name": "python3"
  },
  "language_info": {
   "codemirror_mode": {
    "name": "ipython",
    "version": 3
   },
   "file_extension": ".py",
   "mimetype": "text/x-python",
   "name": "python",
   "nbconvert_exporter": "python",
   "pygments_lexer": "ipython3",
   "version": "3.10.9"
  }
 },
 "nbformat": 4,
 "nbformat_minor": 5
}
